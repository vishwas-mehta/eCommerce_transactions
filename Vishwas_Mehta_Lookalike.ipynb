{
 "cells": [
  {
   "cell_type": "code",
   "execution_count": 4,
   "id": "7210bc04-fb13-437b-8e81-cf2b1c8424ff",
   "metadata": {},
   "outputs": [
    {
     "name": "stderr",
     "output_type": "stream",
     "text": [
      "/var/folders/2t/dyqmr9t94ms0drz2srwq25540000gn/T/ipykernel_22281/2465595267.py:18: FutureWarning: A value is trying to be set on a copy of a DataFrame or Series through chained assignment using an inplace method.\n",
      "The behavior will change in pandas 3.0. This inplace method will never work because the intermediate object on which we are setting values always behaves as a copy.\n",
      "\n",
      "For example, when doing 'df[col].method(value, inplace=True)', try using 'df.method({col: value}, inplace=True)' or df[col] = df[col].method(value) instead, to perform the operation inplace on the original object.\n",
      "\n",
      "\n",
      "  customer_features['TotalValue'].fillna(0, inplace=True)\n",
      "/var/folders/2t/dyqmr9t94ms0drz2srwq25540000gn/T/ipykernel_22281/2465595267.py:19: FutureWarning: A value is trying to be set on a copy of a DataFrame or Series through chained assignment using an inplace method.\n",
      "The behavior will change in pandas 3.0. This inplace method will never work because the intermediate object on which we are setting values always behaves as a copy.\n",
      "\n",
      "For example, when doing 'df[col].method(value, inplace=True)', try using 'df.method({col: value}, inplace=True)' or df[col] = df[col].method(value) instead, to perform the operation inplace on the original object.\n",
      "\n",
      "\n",
      "  customer_features['TransactionID'].fillna(0, inplace=True)\n"
     ]
    }
   ],
   "source": [
    "import pandas as pd\n",
    "import numpy as np\n",
    "customers = pd.read_csv('Customers.csv')\n",
    "products = pd.read_csv('Products.csv')\n",
    "transactions = pd.read_csv('Transactions.csv')\n",
    "customers['SignupDate'] = pd.to_datetime(customers['SignupDate'])\n",
    "transactions['TransactionDate'] = pd.to_datetime(transactions['TransactionDate'])\n",
    "\n",
    "from sklearn.preprocessing import StandardScaler\n",
    "from sklearn.metrics.pairwise import cosine_similarity\n",
    "\n",
    "# Prepare customer features\n",
    "customer_features = customers.merge(transactions.groupby('CustomerID').agg({\n",
    "    'TotalValue': 'sum',\n",
    "    'TransactionID': 'count'\n",
    "}), on='CustomerID', how='left')\n",
    "\n",
    "customer_features['TotalValue'].fillna(0, inplace=True)\n",
    "customer_features['TransactionID'].fillna(0, inplace=True)\n",
    "\n",
    "# Encode categorical variables\n",
    "customer_features = pd.get_dummies(customer_features, columns=['Region'])\n",
    "\n",
    "# Select features for similarity calculation\n",
    "features = ['TotalValue', 'TransactionID'] + [col for col in customer_features.columns if col.startswith('Region_')]\n",
    "\n",
    "# Normalize features\n",
    "scaler = StandardScaler()\n",
    "customer_features_scaled = scaler.fit_transform(customer_features[features])\n",
    "\n",
    "# Calculate similarity matrix\n",
    "similarity_matrix = cosine_similarity(customer_features_scaled)\n",
    "\n",
    "# Function to get top 3 lookalikes\n",
    "def get_lookalikes(customer_id, n=3):\n",
    "    idx = customer_features.index[customer_features['CustomerID'] == customer_id].tolist()[0]\n",
    "    similar_indices = similarity_matrix[idx].argsort()[-n-1:-1][::-1]\n",
    "    return [(customer_features.iloc[i]['CustomerID'], similarity_matrix[idx][i]) for i in similar_indices]\n",
    "\n",
    "# Get lookalikes for first 20 customers\n",
    "lookalikes = {}\n",
    "for cust_id in customers['CustomerID'][:20]:\n",
    "    lookalikes[cust_id] = get_lookalikes(cust_id)\n",
    "\n",
    "# Create DataFrame and save to CSV\n",
    "lookalike_df = pd.DataFrame([(k, v) for k, v in lookalikes.items()], columns=['CustomerID', 'Lookalikes'])\n",
    "lookalike_df.to_csv('Lookalike.csv', index=False)\n"
   ]
  },
  {
   "cell_type": "code",
   "execution_count": null,
   "id": "ac916e46-7a8f-49f9-93aa-1f29b79a9f67",
   "metadata": {},
   "outputs": [],
   "source": []
  }
 ],
 "metadata": {
  "kernelspec": {
   "display_name": "Python 3 (ipykernel)",
   "language": "python",
   "name": "python3"
  },
  "language_info": {
   "codemirror_mode": {
    "name": "ipython",
    "version": 3
   },
   "file_extension": ".py",
   "mimetype": "text/x-python",
   "name": "python",
   "nbconvert_exporter": "python",
   "pygments_lexer": "ipython3",
   "version": "3.13.1"
  }
 },
 "nbformat": 4,
 "nbformat_minor": 5
}
